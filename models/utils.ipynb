{
 "cells": [
  {
   "cell_type": "code",
   "execution_count": 1,
   "metadata": {},
   "outputs": [
    {
     "name": "stderr",
     "output_type": "stream",
     "text": [
      "/opt/homebrew/lib/python3.11/site-packages/tqdm/auto.py:21: TqdmWarning: IProgress not found. Please update jupyter and ipywidgets. See https://ipywidgets.readthedocs.io/en/stable/user_install.html\n",
      "  from .autonotebook import tqdm as notebook_tqdm\n"
     ]
    }
   ],
   "source": [
    "from jax.scipy.special import logsumexp\n",
    "import numpyro\n",
    "from jax import numpy as jnp\n",
    "from numpyro import distributions as dist\n",
    "\n",
    "\n",
    "def missingness_adjustment(log_rate, missing_idx, control_idx, residual_cat_mask_idx, missing_values, dist_type, model_treated=True, dispersion=None):\n",
    "    \"\"\"\n",
    "    Adjusts for deterministic missingness by incorporating missing data probabilities.\n",
    "\n",
    "    Parameters:\n",
    "    -----------\n",
    "\n",
    "    log_rate : jax.numpy.ndarray\n",
    "        log Predicted values for all data points.\n",
    "    missing_idx : jax.numpy.ndarray\n",
    "        Boolean mask indicating missing data points.\n",
    "    control_idx : jax.numpy.ndarray\n",
    "        Boolean mask indicating control data points.\n",
    "    missing_values : jax.numpy.ndarray\n",
    "        Possible values for missing data points.\n",
    "\n",
    "    Returns:\n",
    "    --------\n",
    "    None\n",
    "    \"\"\"\n",
    "    print(log_rate.shape == residual_cat_mask_idx.shape)\n",
    "\n",
    "    if dist_type == \"Poisson\":\n",
    "        # Calculate log probabilities of Poisson distribution for missing values\n",
    "        probs = dist.Poisson(jnp.exp(log_rate)[:, None]).log_prob(missing_values[None, :])\n",
    "    elif dist_type == \"NB\":\n",
    "        if dispersion is None:\n",
    "            raise Exception(\"Negative Binomial requires a dispersion parameter\")\n",
    "        print(dispersion.shape)\n",
    "        print(log_rate.shape)\n",
    "        probs = dist.NegativeBinomial2(jnp.exp(log_rate)[:, None], dispersion.reshape(-1)[:, None]).log_prob(missing_values[None, :])\n",
    "        \n",
    "    # Sum log probabilities along axis 1 (summing over the missing values)\n",
    "    print(probs.shape)\n",
    "    log_probs_summed = logsumexp(probs, axis=1)\n",
    "\n",
    "    # increment log likelihood to account for missingness\n",
    "    missing_factor = numpyro.factor(\"missing_factors\", log_probs_summed[missing_idx & control_idx & ~residual_cat_mask_idx].sum())\n",
    "        \n",
    "    # Increment log likelihood to account for non-missingness \n",
    "    nonmissing_factor = numpyro.factor(\"nonmissing_factors\", jnp.log(1 - jnp.exp(log_probs_summed[~missing_idx & control_idx & ~residual_cat_mask_idx])).sum())\n",
    "    "
   ]
  }
 ],
 "metadata": {
  "kernelspec": {
   "display_name": "Python 3",
   "language": "python",
   "name": "python3"
  },
  "language_info": {
   "codemirror_mode": {
    "name": "ipython",
    "version": 3
   },
   "file_extension": ".py",
   "mimetype": "text/x-python",
   "name": "python",
   "nbconvert_exporter": "python",
   "pygments_lexer": "ipython3",
   "version": "3.11.8"
  }
 },
 "nbformat": 4,
 "nbformat_minor": 2
}
