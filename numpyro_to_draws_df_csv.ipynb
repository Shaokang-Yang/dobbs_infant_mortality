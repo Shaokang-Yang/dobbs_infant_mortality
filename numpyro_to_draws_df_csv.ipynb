{
 "cells": [
  {
   "cell_type": "code",
   "execution_count": 1,
   "metadata": {},
   "outputs": [],
   "source": [
    "import numpy as np\n",
    "import pandas as pd\n",
    "\n",
    "def dict_to_tidybayes(samples_dict, output_file=None):\n",
    "    \"\"\"\n",
    "    Convert a dictionary of MCMC samples to a tidybayes draws dataframe.\n",
    "\n",
    "    Parameters:\n",
    "    - samples_dict: Dictionary with keys as parameter names and values as MCMC samples\n",
    "\n",
    "    Returns:\n",
    "    - draws_df: Tidybayes draws dataframe\n",
    "    \"\"\"\n",
    "    # Get parameter names and dimensions\n",
    "    param_names = list(samples_dict.keys())\n",
    "    print(param_names)\n",
    "    param_dims = [samples_dict[param].shape[2:] for param in param_names]\n",
    "\n",
    "    vals = {}\n",
    "    # Extract chains, draws\n",
    "    chains, draws = samples_dict[param_names[0]].shape[:2]\n",
    "    # Add columns for the chain and draw number\n",
    "    vals['.chain'] = np.tile(np.arange(chains), draws)\n",
    "    vals['.draw'] = np.repeat(np.arange(draws), chains)\n",
    "    # Extract the samples \n",
    "    for param_name, param_dim in zip(param_names, param_dims):\n",
    "        param_samples = samples_dict[param_name]\n",
    "    \n",
    "        # Reshape the samples to a 2D array (draws * chains, parameters)\n",
    "        samples_array = param_samples.reshape((draws * chains, int(np.prod(param_dim))), order='F')\n",
    "        # Create columns for each dimension of the parameter\n",
    "        if len(param_dim) > 0:\n",
    "            # Generate indices as strings\n",
    "            index_strs = (np.array(np.meshgrid(*[np.arange(dim) for dim in param_dim], indexing='ij')).reshape(len(param_dim), np.prod(param_dim), order='F').T)\n",
    "            for idx, index in enumerate(index_strs):\n",
    "                vals[f\"{param_name}[{','.join(map(str, index.flatten()+1))}]\"] = samples_array[:, idx]\n",
    "            \n",
    "        else:\n",
    "            vals[param_name] = samples_array[:, 0]\n",
    "    \n",
    "    draws_df = pd.DataFrame(vals)\n",
    "\n",
    "    if output_file is not None:\n",
    "        draws_df.to_csv(output_file, index_label='index')\n",
    "\n",
    "    return draws_df"
   ]
  }
 ],
 "metadata": {
  "kernelspec": {
   "display_name": "Python 3",
   "language": "python",
   "name": "python3"
  },
  "language_info": {
   "codemirror_mode": {
    "name": "ipython",
    "version": 3
   },
   "file_extension": ".py",
   "mimetype": "text/x-python",
   "name": "python",
   "nbconvert_exporter": "python",
   "pygments_lexer": "ipython3",
   "version": "3.11.8"
  }
 },
 "nbformat": 4,
 "nbformat_minor": 2
}
